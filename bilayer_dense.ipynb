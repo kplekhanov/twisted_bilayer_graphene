{
 "cells": [
  {
   "cell_type": "code",
   "execution_count": 10,
   "metadata": {},
   "outputs": [
    {
     "name": "stdout",
     "output_type": "stream",
     "text": [
      "-1.2971890475933494\n"
     ]
    }
   ],
   "source": [
    "from scipy.sparse import linalg as sp_linalg\n",
    "from timeit import default_timer as timer\n",
    "from utilities import *\n",
    "            \n",
    "## definitions\n",
    "# honeycomb and reciprocal lattice vecs\n",
    "a = 1\n",
    "u1 = np.array((a * np.sqrt(3), 0))\n",
    "u2 = np.array((a * np.sqrt(3) / 2, a * 3 / 2))\n",
    "q1, q2 = get_inv(u1, u2)\n",
    "v1 = np.array((a * np.sqrt(3) / 2, a / 2))\n",
    "v2 = np.array((-a * np.sqrt(3) / 2, a / 2))\n",
    "v3 = np.array((0, a))\n",
    "\n",
    "# moire lattice vecs\n",
    "lm1, lm2 = 26, 25\n",
    "u_moire_1, u_moire_2 = lm1 * u1 + lm2 * u2, (lm1 + lm2) * u2 - lm2 * u1\n",
    "moire_cell = Cell(u_moire_1, u_moire_2)\n",
    "\n",
    "# twisting angle\n",
    "theta_twist = lm1 ** 2 + lm1 * lm2 / 2\n",
    "theta_twist /= np.sqrt(lm1 ** 2 + lm2 ** 2 + lm1 * lm2)\n",
    "theta_twist /= lm1\n",
    "theta_twist = np.arccos(theta_twist)\n",
    "theta_twist = 2 * theta_twist - np.pi / 3\n",
    "theta_deg = np.rad2deg(theta_twist)\n",
    "print(theta_deg)\n",
    "\n",
    "# big parallelogram which contains moire unit cell\n",
    "l_big_1, l_big_2 = (lm1 + lm2) * 2, (lm1 + 2 * lm2) * 2\n",
    "u_big_1, u_big_2 = l_big_1 * u1, l_big_2 * u2\n",
    "big_cell = Cell(u_big_1, u_big_2)\n",
    "\n",
    "# hoppings\n",
    "t0 = -2.7\n",
    "t_inter = t0 * 0.2"
   ]
  },
  {
   "cell_type": "code",
   "execution_count": 13,
   "metadata": {
    "scrolled": true
   },
   "outputs": [],
   "source": [
    "lattice_0, lattice_1 = Lattice(moire_cell), Lattice(moire_cell)\n",
    "for i1 in range(l_big_1 + 1):\n",
    "    for i2 in range(l_big_2 + 1):\n",
    "        vecs = [i1 * u1 + i2 * u2 + big_cell.u_origin, i1 * u1 + i2 * u2 + v3 + big_cell.u_origin]\n",
    "        for vec in vecs:\n",
    "            lattice_0.add_site(vec)\n",
    "        vecs = [rotate_vec(vec, theta_twist) for vec in vecs]\n",
    "        for vec in vecs:\n",
    "            lattice_1.add_site(vec)\n",
    "\n",
    "hamdic_00 = Hamdic((lattice_0.num_sites, lattice_0.num_sites))\n",
    "vecs = [v1, v2, v3, -v1, -v2, -v3]\n",
    "for vec in vecs:\n",
    "    hamdic_00 += lattice_0.get_hamdic_intra(vec, t0)\n",
    "hamdic_11 = Hamdic((lattice_1.num_sites, lattice_1.num_sites))\n",
    "vecs = [rotate_vec(vec, theta_twist) for vec in vecs]\n",
    "for vec in vecs:\n",
    "    hamdic_11 += lattice_1.get_hamdic_intra(vec, t0)\n",
    "hamdic_01 = Hamdic((lattice_0.num_sites, lattice_1.num_sites))\n",
    "hamdic_01 += lattice_0.get_hamdic_inter(lattice_1, t_inter, distance_cutoff_sq=a**2)\n",
    "hamdic_10 = hamdic_01.get_hermitian_conjugate()\n",
    "\n",
    "#hamdic = compose_hamdics([[hamdic_00, hamdic_01], [hamdic_10, hamdic_11]])\n",
    "hamdic = compose_hamdics([[None, None], [None, hamdic_11]])\n",
    "for key in hamdic.dic.keys():\n",
    "    #hamdic.dic[key] = hamdic.dic[key].tocsr()\n",
    "    hamdic.dic[key] = hamdic.dic[key].todense()\n",
    "    \n",
    "q_test = np.array([0.123, 0.123])\n",
    "ham = np.zeros((nd, nd), dtype=np.complex128)\n",
    "for key in hamdic.dic.keys():\n",
    "    u_shift = moire_cell.get_u_shift(key[0], key[1])\n",
    "    ham += hamdic.dic[key] * np.exp(1j * 2 * np.pi * q_test.dot(u_shift))\n",
    "non_hermicity = np.linalg.norm(ham - ham.T.conjugate())\n",
    "print(\"|H - H^dag| = {0:.2f}\".format(non_hermicity))"
   ]
  },
  {
   "cell_type": "code",
   "execution_count": null,
   "metadata": {},
   "outputs": [],
   "source": [
    "## calculating the eigenergies along the 1D line\n",
    "nq, nd = 51, lattice_0.num_sites + lattice_1.num_sites\n",
    "#nq, nd = 51, lattice_0.num_sites\n",
    "ns = 10\n",
    "#ns = nd\n",
    "q_arr = [moire_cell.q1 * iq / nq for iq in range(nq)]\n",
    "q_arr += [moire_cell.q1 + (moire_cell.q2 - moire_cell.q1) * 0.5 * iq / nq for iq in range(nq)]\n",
    "q_arr += [(moire_cell.q2 + moire_cell.q1) * 0.5 * (1 - iq / nq) for iq in range(nq)]\n",
    "\n",
    "#es_arr = np.zeros((len(q_arr), nd))\n",
    "es_arr = np.zeros((len(q_arr), ns))\n",
    "for iq in range(len(q_arr)):\n",
    "    print(\"iq: {}   \".format(iq), end=\"\\r\")\n",
    "    q_num = q_arr[iq]\n",
    "    ham = np.zeros((nd, nd), dtype=np.complex128)\n",
    "    for key in hamdic.dic.keys():\n",
    "        u_shift = moire_cell.get_u_shift(key[0], key[1])\n",
    "        ham += hamdic.dic[key] * np.exp(1j * 2 * np.pi * q_num.dot(u_shift))\n",
    "    non_hermicity = np.linalg.norm(ham - ham.T.conjugate())\n",
    "    if non_hermicity > 1e-10:\n",
    "        print(\"Error: |H - H^dag| = {0:.2f}\".format(non_hermicity))\n",
    "        raise(Exception)\n",
    "    #es, vs = np.linalg.eigh(ham)\n",
    "    es, vs = sp_linalg.eigsh(ham, k=ns, sigma=0, tol=1e-4)\n",
    "    es_arr[iq,:] = es[:]"
   ]
  },
  {
   "cell_type": "code",
   "execution_count": 9,
   "metadata": {},
   "outputs": [],
   "source": [
    "%matplotlib qt5\n",
    "fig = plt.figure()\n",
    "\n",
    "fax = fig.add_axes((.15, .15, .75, .75))\n",
    "for jd in range(ns):\n",
    "    cax = fax.plot(range(len(q_arr)), es_arr[:,jd], c=\"black\", lw=0, marker='.', ms=2.5)\n",
    "cax = fax.plot([0, len(q_arr)], [0, 0], c=\"red\", linestyle=':')\n",
    "cax = fax.scatter([0, nq, 2*nq, 3*nq], [0, 0, 0, 0], marker='|', c=\"red\")\n",
    "    \n",
    "plt.savefig(\"figs/ens_1d.lm1_{}.lm2_{}.theta_{:.2f}.t0_{:.2f}.tInter_{:.2f}.pdf\".format(lm1, lm2, theta_deg, t0, t_inter))\n",
    "plt.show()"
   ]
  },
  {
   "cell_type": "code",
   "execution_count": 5,
   "metadata": {},
   "outputs": [
    {
     "name": "stdout",
     "output_type": "stream",
     "text": [
      "Calculating the spectrum took 2.162268399999995\n"
     ]
    }
   ],
   "source": [
    "## calculating the eigenergies in 2D\n",
    "qx1, qx2 = moire_cell.q2[0], moire_cell.q1[0]\n",
    "qy1, qy2 = min(0, moire_cell.q1[1]), max(moire_cell.q2[1], (moire_cell.q1+moire_cell.q2)[1])\n",
    "\n",
    "nqx, nqy, nd = 51, 51, lattice_0.num_sites + lattice_1.num_sites\n",
    "#nqx, nqy, nd = 51, 51, lattice_0.num_sites\n",
    "qx_arr = np.linspace(qx1-0.03, qx2+0.03, nqx)\n",
    "qy_arr = np.linspace(qy1-0.03, qy2+0.03, nqy)\n",
    "qx_np, qy_np = np.meshgrid(qx_arr, qy_arr)\n",
    "\n",
    "## diagonalizing\n",
    "es_np = np.zeros((nqy, nqx, nd))\n",
    "start = timer()\n",
    "for iqy in range(nqy):\n",
    "    print(\"iqy: {}   \".format(iqy), end=\"\\r\")\n",
    "    for iqx in range(nqx):\n",
    "        qx, qy = qx_arr[iqx], qy_arr[iqy]\n",
    "        q_num = np.array((qx, qy))\n",
    "        ham = np.zeros((lattice_1.num_sites, lattice_1.num_sites), dtype=np.complex128)\n",
    "        for key in hamdic.dic.keys():\n",
    "            u_shift = lattice_1.cell.get_u_shift(key[0], key[1])\n",
    "            ham += hamdic.dic[key] * np.exp(1j * 2 * np.pi * q_num.dot(u_shift))\n",
    "        non_hermicity = np.linalg.norm(ham - ham.T.conjugate())\n",
    "        if non_hermicity > 1e-10:\n",
    "            print(\"Warning: |H - H^dag| = {0:.2f}\".format(non_hermicity))\n",
    "            raise(Exception)\n",
    "        es, vs = np.linalg.eigh(ham)\n",
    "        es_np[iqy,iqx,:] = es[:]\n",
    "print(\"Calculating the spectrum took {0}\".format(timer()-start))\n",
    "        \n",
    "## sorting\n",
    "es_np_s = np.zeros((nqy, nqx, nd))\n",
    "for iqy in range(nqy):\n",
    "    for iqx in range(nqx):\n",
    "        indices = np.argsort(es_np[iqy,iqx,:])\n",
    "        es_np_s[iqy,iqx,:] = es_np[iqy,iqx,indices]"
   ]
  },
  {
   "cell_type": "code",
   "execution_count": 24,
   "metadata": {},
   "outputs": [],
   "source": [
    "%matplotlib qt5\n",
    "fig = plt.figure()\n",
    "\n",
    "fax = fig.add_axes((.15, .15, .75, .75))\n",
    "cax = fax.pcolormesh(qx_np, qy_np, es_np_s[:,:,38], cmap='viridis')\n",
    "cbar = plt.colorbar(cax)\n",
    "moire_cell.draw_q(fax)\n",
    "\n",
    "#plt.savefig(\"figs/ens.2d.lm1_{}.lm2_{}.t0_{:.2f}.tInter_{:.2f}.pdf\".format(lm1, lm2, t0, tInter))\n",
    "plt.show()"
   ]
  },
  {
   "cell_type": "code",
   "execution_count": 15,
   "metadata": {},
   "outputs": [],
   "source": [
    "## plotting the lattice\n",
    "%matplotlib qt5\n",
    "fig = plt.figure()\n",
    "\n",
    "fax = fig.add_axes((.15, .15, .75, .75))\n",
    "moire_cell.draw(fax)\n",
    "lattice_0.draw(fax, color_int=\"red\", color_ext=\"gray\", u_offset=np.array([0.01, 0.01]), draw_numbers=False)\n",
    "#lattice_1.draw(fax, color_int=\"blue\", color_ext=\"gray\", u_offset=np.array([-0.01, 0.01]), draw_numbers=True)\n",
    "big_cell.draw(fax)\n",
    "#big_cell_1 = big_cell.rotate(theta_twist)\n",
    "#big_cell_1.draw(fax)\n",
    "\n",
    "#plt.savefig(\"figs/lattice.lm1_{}.lm2_{}.pdf\".format(lm1, lm2))\n",
    "plt.show()"
   ]
  },
  {
   "cell_type": "code",
   "execution_count": null,
   "metadata": {},
   "outputs": [],
   "source": []
  }
 ],
 "metadata": {
  "kernelspec": {
   "display_name": "Python 3",
   "language": "python",
   "name": "python3"
  },
  "language_info": {
   "codemirror_mode": {
    "name": "ipython",
    "version": 3
   },
   "file_extension": ".py",
   "mimetype": "text/x-python",
   "name": "python",
   "nbconvert_exporter": "python",
   "pygments_lexer": "ipython3",
   "version": "3.7.4"
  }
 },
 "nbformat": 4,
 "nbformat_minor": 2
}
