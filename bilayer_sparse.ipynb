{
 "cells": [
  {
   "cell_type": "code",
   "execution_count": 1,
   "metadata": {},
   "outputs": [
    {
     "name": "stdout",
     "output_type": "stream",
     "text": [
      "-13.17355110725886\n",
      "13.173551107258918\n"
     ]
    }
   ],
   "source": [
    "from scipy.sparse import linalg as sp_linalg\n",
    "from timeit import default_timer as timer\n",
    "from utilities import *\n",
    "            \n",
    "## definitions\n",
    "# honeycomb and reciprocal lattice vecs\n",
    "a = 1\n",
    "u1 = np.array((a * np.sqrt(3), 0))\n",
    "u2 = np.array((a * np.sqrt(3) / 2, a * 3 / 2))\n",
    "q1, q2 = get_inv(u1, u2)\n",
    "v1 = np.array((a * np.sqrt(3) / 2, a / 2))\n",
    "v2 = np.array((-a * np.sqrt(3) / 2, a / 2))\n",
    "v3 = np.array((0, a))\n",
    "\n",
    "# moire lattice vecs\n",
    "lm1, lm2 = 3, 2\n",
    "u_moire_1, u_moire_2 = lm1 * u1 + lm2 * u2, (lm1 + lm2) * u2 - lm2 * u1\n",
    "moire_cell = Cell(u_moire_1, u_moire_2)\n",
    "\n",
    "# twisting angle\n",
    "theta_twist = lm1 ** 2 + lm1 * lm2 / 2\n",
    "theta_twist /= np.sqrt(lm1 ** 2 + lm2 ** 2 + lm1 * lm2)\n",
    "theta_twist /= lm1\n",
    "theta_twist = np.arccos(theta_twist)\n",
    "theta_twist = 2 * theta_twist - np.pi / 3\n",
    "theta_deg = np.rad2deg(theta_twist)\n",
    "print(theta_deg)\n",
    "print(np.rad2deg(np.arccos((lm1 ** 2 + lm2 ** 2 + 4 * lm1 * lm2) / (lm1 ** 2 + lm2 ** 2 + lm1 * lm2) / 2)))\n",
    "\n",
    "# big parallelogram which contains moire unit cell\n",
    "l_big_1, l_big_2 = (lm1 + lm2) * 2, (lm1 + 2 * lm2) * 2\n",
    "u_big_1, u_big_2 = l_big_1 * u1, l_big_2 * u2\n",
    "big_cell = Cell(u_big_1, u_big_2)\n",
    "\n",
    "# hoppings\n",
    "t0 = -2.7\n",
    "t1 = -2.7 * np.exp(-np.sqrt(3)) * 0.1\n",
    "t_inter = t0 * 0.0"
   ]
  },
  {
   "cell_type": "code",
   "execution_count": 3,
   "metadata": {
    "scrolled": true
   },
   "outputs": [
    {
     "name": "stdout",
     "output_type": "stream",
     "text": [
      "00 shape = (38, 38)\n",
      "|H - H^dag| = 0.0\n"
     ]
    }
   ],
   "source": [
    "lattice_0, lattice_1 = Lattice(moire_cell), Lattice(moire_cell)\n",
    "for i1 in range(l_big_1 + 1):\n",
    "    for i2 in range(l_big_2 + 1):\n",
    "        vecs = [i1 * u1 + i2 * u2 + big_cell.u_origin, i1 * u1 + i2 * u2 + v3 + big_cell.u_origin]\n",
    "        for vec in vecs:\n",
    "            lattice_0.add_site(vec)\n",
    "        vecs = [rotate_vec(vec, theta_twist) for vec in vecs]\n",
    "        for vec in vecs:\n",
    "            lattice_1.add_site(vec)\n",
    "\n",
    "## NN hoppings\n",
    "hamdic_00 = Hamdic((lattice_0.num_sites, lattice_0.num_sites), dtype=np.complex128)\n",
    "vecs = [v1, v2, v3]\n",
    "for vec in vecs:\n",
    "    hamdic_00 += lattice_0.get_hamdic_intra(vec, t0)\n",
    "    hamdic_00 += lattice_0.get_hamdic_intra(-vec, t0)\n",
    "print(\"00 shape = {}\".format(hamdic_00.shape))\n",
    "#hamdic_11 = Hamdic((lattice_1.num_sites, lattice_1.num_sites), dtype=np.complex128)\n",
    "#vecs = [rotate_vec(vec, theta_twist) for vec in vecs]\n",
    "#for vec in vecs:\n",
    "#    hamdic_11 += lattice_1.get_hamdic_intra(vec, t0)\n",
    "#    hamdic_11 += lattice_1.get_hamdic_intra(-vec, t0)\n",
    "#print(\"11 shape = {}\".format(hamdic_11.shape))\n",
    "hamdic_11 = None\n",
    "\n",
    "## NNN hoppings\n",
    "vecs = [u1, u2-u1, -u2]\n",
    "for vec in vecs:\n",
    "    hamdic_00 += lattice_0.get_hamdic_intra(vec, 1j*t1, dtype=np.complex128)\n",
    "    hamdic_00 += lattice_0.get_hamdic_intra(-vec, -1j*t1, dtype=np.complex128)\n",
    "#vecs = [rotate_vec(vec, theta_twist) for vec in vecs]\n",
    "#for vec in vecs:\n",
    "#    hamdic_11 += lattice_1.get_hamdic_intra(vec, 1j*t1, dtype=np.complex128)\n",
    "#    hamdic_11 += lattice_1.get_hamdic_intra(-vec, -1j*t1, dtype=np.complex128)\n",
    "\n",
    "## interlayer hoppings\n",
    "#hamdic_01 = Hamdic((lattice_0.num_sites, lattice_1.num_sites))\n",
    "#hamdic_01 += lattice_0.get_hamdic_inter(lattice_1, t_inter, distance_cutoff_sq=a**2)\n",
    "#print(\"01 shape = {}\".format(hamdic_01.shape))\n",
    "#hamdic_10 = hamdic_01.get_hermitian_conjugate()\n",
    "hamdic_01 = None\n",
    "hamdic_10 = None\n",
    "\n",
    "hamdic = compose_hamdics([[hamdic_00, hamdic_01], [hamdic_10, hamdic_11]])\n",
    "for key in hamdic.dic.keys():\n",
    "    hamdic.dic[key] = hamdic.dic[key].tocsr()\n",
    "    \n",
    "## checking hermiticity\n",
    "q_test = np.array([1.234, 5.678])\n",
    "ham = lil_matrix(hamdic.shape, dtype=np.complex128)\n",
    "for key in hamdic.dic.keys():\n",
    "    u_shift = moire_cell.get_u_shift(key[0], key[1])\n",
    "    ham += hamdic.dic[key] * np.exp(1j * 2 * np.pi * q_test.dot(u_shift))\n",
    "non_hermicity = sp_linalg.norm(ham - ham.T.conjugate())\n",
    "print(\"|H - H^dag| = {}\".format(non_hermicity))"
   ]
  },
  {
   "cell_type": "code",
   "execution_count": 5,
   "metadata": {},
   "outputs": [
    {
     "name": "stdout",
     "output_type": "stream",
     "text": [
      "iq: 152   \r"
     ]
    }
   ],
   "source": [
    "## calculating the eigenergies along the 1D line\n",
    "nq, ns, nd = 51, 10, hamdic.shape[0]\n",
    "q_arr = [moire_cell.q1 * iq / nq for iq in range(nq)]\n",
    "q_arr += [moire_cell.q1 + (moire_cell.q2 - moire_cell.q1) * 0.5 * iq / nq for iq in range(nq)]\n",
    "q_arr += [(moire_cell.q2 + moire_cell.q1) * 0.5 * (1 - iq / nq) for iq in range(nq)]\n",
    "\n",
    "es_arr = np.zeros((len(q_arr), ns))\n",
    "for iq in range(len(q_arr)):\n",
    "    print(\"iq: {}   \".format(iq), end=\"\\r\")\n",
    "    q_num = q_arr[iq]\n",
    "    ham = lil_matrix(hamdic.shape, dtype=np.complex128)\n",
    "    for key in hamdic.dic.keys():\n",
    "        u_shift = moire_cell.get_u_shift(key[0], key[1])\n",
    "        ham += hamdic.dic[key] * np.exp(1j * 2 * np.pi * q_num.dot(u_shift))\n",
    "    ham = ham.tocsc()\n",
    "    es, vs = sp_linalg.eigsh(ham, k=ns, sigma=0, tol=1e-4)\n",
    "    es_arr[iq,:] = es[:]"
   ]
  },
  {
   "cell_type": "code",
   "execution_count": 8,
   "metadata": {},
   "outputs": [],
   "source": [
    "%matplotlib qt5\n",
    "fig = plt.figure()\n",
    "\n",
    "fax = fig.add_axes((.15, .15, .75, .75))\n",
    "for jd in range(ns):\n",
    "    cax = fax.plot(range(len(q_arr)), es_arr[:,jd], c=\"red\", lw=0, marker='.', ms=2.5)\n",
    "fax.plot([0, len(q_arr)], [0, 0], c=\"black\", linestyle='-')\n",
    "fax.scatter([0.5*nq, (1+2/3)*nq, 2.0*nq], [0, 0, 0], s=100, marker='|', c=\"black\")\n",
    "fax.text((0.52)*nq, 0.0, r\"$M$\", color=\"black\")\n",
    "fax.text((1+2/3+0.02)*nq, 0.0, r\"$K$\", color=\"black\")\n",
    "fax.text((2.02)*nq, 0.0, r\"$M'$\", color=\"black\")\n",
    "    \n",
    "title = \"ens.1d.sparse.lm1={}.lm2={}.theta={:.2f}.t0={:.2f}.t_inter={:.2f}.pdf\".format(lm1, lm2, theta_deg, t0, t_inter)\n",
    "#plt.savefig(\"figs/\"+title)\n",
    "plt.show()"
   ]
  },
  {
   "cell_type": "code",
   "execution_count": 11,
   "metadata": {},
   "outputs": [],
   "source": [
    "## plotting the lattice\n",
    "%matplotlib qt5\n",
    "fig = plt.figure()\n",
    "\n",
    "fax = fig.add_axes((.15, .15, .75, .75))\n",
    "moire_cell.draw(fax)\n",
    "lattice_0.draw(fax, color_int=\"red\", color_ext=\"gray\", u_offset=np.array([0.01, 0.01]), draw_numbers=False)\n",
    "lattice_1.draw(fax, color_int=\"blue\", color_ext=\"gray\", u_offset=np.array([-0.01, 0.01]), draw_numbers=False)\n",
    "big_cell.draw(fax)\n",
    "big_cell_1 = big_cell.rotate(theta_twist)\n",
    "big_cell_1.draw(fax)\n",
    "\n",
    "title = \"lattice.lm1={}.lm2={}.pdf\".format(lm1, lm2)\n",
    "plt.savefig(\"figs/\"+title)\n",
    "plt.show()"
   ]
  },
  {
   "cell_type": "code",
   "execution_count": null,
   "metadata": {},
   "outputs": [],
   "source": []
  }
 ],
 "metadata": {
  "kernelspec": {
   "display_name": "Python (norm)",
   "language": "python",
   "name": "norm"
  },
  "language_info": {
   "codemirror_mode": {
    "name": "ipython",
    "version": 3
   },
   "file_extension": ".py",
   "mimetype": "text/x-python",
   "name": "python",
   "nbconvert_exporter": "python",
   "pygments_lexer": "ipython3",
   "version": "3.7.5"
  }
 },
 "nbformat": 4,
 "nbformat_minor": 2
}
