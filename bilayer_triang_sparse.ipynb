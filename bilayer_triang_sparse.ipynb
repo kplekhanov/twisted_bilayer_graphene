{
 "cells": [
  {
   "cell_type": "code",
   "execution_count": 89,
   "metadata": {},
   "outputs": [
    {
     "name": "stdout",
     "output_type": "stream",
     "text": [
      "-3.4810060894669315\n",
      "3.481006089466939\n"
     ]
    }
   ],
   "source": [
    "from scipy.sparse import linalg as sp_linalg\n",
    "from timeit import default_timer as timer\n",
    "from utilities import *\n",
    "            \n",
    "## definitions\n",
    "# honeycomb and reciprocal lattice vecs\n",
    "a = 1\n",
    "u1 = np.array((a * np.sqrt(3), 0))\n",
    "u2 = np.array((a * np.sqrt(3) / 2, a * 3 / 2))\n",
    "q1, q2 = get_inv(u1, u2)\n",
    "v1 = np.array((a * np.sqrt(3) / 2, -a / 2))\n",
    "v2 = np.array((-a * np.sqrt(3) / 2, -a / 2))\n",
    "v3 = np.array((0, a))\n",
    "\n",
    "# moire lattice vecs\n",
    "lm1, lm2 = 10, 9\n",
    "u_moire_1, u_moire_2 = lm1 * u1 + lm2 * u2, (lm1 + lm2) * u2 - lm2 * u1\n",
    "moire_cell = Cell(u_moire_1, u_moire_2)\n",
    "\n",
    "# twisting angle\n",
    "theta_twist = lm1 ** 2 + lm1 * lm2 / 2\n",
    "theta_twist /= np.sqrt(lm1 ** 2 + lm2 ** 2 + lm1 * lm2)\n",
    "theta_twist /= lm1\n",
    "theta_twist = np.arccos(theta_twist)\n",
    "theta_twist = 2 * theta_twist - np.pi / 3\n",
    "theta_deg = np.rad2deg(theta_twist)\n",
    "print(theta_deg)\n",
    "print(np.rad2deg(np.arccos((lm1 ** 2 + lm2 ** 2 + 4 * lm1 * lm2) / (lm1 ** 2 + lm2 ** 2 + lm1 * lm2) / 2)))\n",
    "\n",
    "# big parallelogram which contains moire unit cell\n",
    "l_big_1, l_big_2 = (lm1 + lm2) * 2, (lm1 + 2 * lm2) * 2\n",
    "u_big_1, u_big_2 = l_big_1 * u1, l_big_2 * u2\n",
    "big_cell = Cell(u_big_1, u_big_2)\n",
    "\n",
    "# hoppings\n",
    "t0 = -2.7\n",
    "t1 = 0.01\n",
    "t_inter = -0.54"
   ]
  },
  {
   "cell_type": "code",
   "execution_count": 90,
   "metadata": {
    "scrolled": true
   },
   "outputs": [
    {
     "name": "stdout",
     "output_type": "stream",
     "text": [
      "00 shape = (542, 542)\n",
      "11 shape = (542, 542)\n",
      "01 shape = (542, 542)\n",
      "|H - H^dag| = 0.0\n"
     ]
    }
   ],
   "source": [
    "lattice_00, lattice_01 = Lattice(moire_cell), Lattice(moire_cell)\n",
    "lattice_10, lattice_11 = Lattice(moire_cell), Lattice(moire_cell)\n",
    "for i1 in range(l_big_1 + 1):\n",
    "    for i2 in range(l_big_2 + 1):\n",
    "        vec = i1 * u1 + i2 * u2 + big_cell.u_origin\n",
    "        lattice_00.add_site(vec)\n",
    "        lattice_01.add_site(vec+v3)\n",
    "        lattice_10.add_site(rotate_vec(vec, theta_twist))\n",
    "        lattice_11.add_site(rotate_vec(vec+v3, theta_twist))\n",
    "\n",
    "## 1st graphene layer\n",
    "# NN hoppings\n",
    "hamdic_00_01 = Hamdic((lattice_00.num_sites, lattice_01.num_sites), dtype=np.complex128)\n",
    "for vec in [v1, v2, v3]:\n",
    "    hamdic_00_01 += lattice_00.get_hamdic_vec(lattice_01, vec, t0, dtype=np.complex128)\n",
    "hamdic_01_00 = hamdic_00_01.get_hermitian_conjugate()\n",
    "# NNN hoppings\n",
    "hamdic_00_00 = Hamdic((lattice_00.num_sites, lattice_00.num_sites), dtype=np.complex128)\n",
    "hamdic_01_01 = Hamdic((lattice_01.num_sites, lattice_01.num_sites), dtype=np.complex128)\n",
    "for vec in [u1, u2-u1, -u2]:\n",
    "    hamdic_00_00 += lattice_00.get_hamdic_vec(lattice_00, vec, t1 * 1j, dtype=np.complex128)\n",
    "    hamdic_00_00 += lattice_00.get_hamdic_vec(lattice_00, -vec, -t1 * 1j, dtype=np.complex128)\n",
    "    hamdic_01_01 += lattice_01.get_hamdic_vec(lattice_01, -vec, t1 * 1j, dtype=np.complex128)\n",
    "    hamdic_01_01 += lattice_01.get_hamdic_vec(lattice_01, vec, -t1 * 1j, dtype=np.complex128)\n",
    "# combining\n",
    "hamdic_00 = compose_hamdics([[hamdic_00_00, hamdic_00_01], [hamdic_01_00, hamdic_01_01]])\n",
    "print(\"00 shape = {}\".format(hamdic_00.shape))\n",
    "\n",
    "## 2nd graphene layer\n",
    "# NN hoppings\n",
    "hamdic_10_11 = Hamdic((lattice_10.num_sites, lattice_11.num_sites), dtype=np.complex128)\n",
    "for vec in [rotate_vec(vec, theta_twist) for vec in [v1, v2, v3]]:\n",
    "    hamdic_10_11 += lattice_10.get_hamdic_vec(lattice_11, vec, t0, dtype=np.complex128)\n",
    "hamdic_11_10 = hamdic_10_11.get_hermitian_conjugate()\n",
    "# NNN hoppings\n",
    "hamdic_10_10 = Hamdic((lattice_10.num_sites, lattice_10.num_sites), dtype=np.complex128)\n",
    "hamdic_11_11 = Hamdic((lattice_11.num_sites, lattice_11.num_sites), dtype=np.complex128)\n",
    "for vec in [rotate_vec(vec, theta_twist) for vec in [u1, u2-u1, -u2]]:\n",
    "    hamdic_10_10 += lattice_10.get_hamdic_vec(lattice_10, vec, t1 * 1j, dtype=np.complex128)\n",
    "    hamdic_10_10 += lattice_10.get_hamdic_vec(lattice_10, -vec, -t1 * 1j, dtype=np.complex128)\n",
    "    hamdic_11_11 += lattice_11.get_hamdic_vec(lattice_11, -vec, t1 * 1j, dtype=np.complex128)\n",
    "    hamdic_11_11 += lattice_11.get_hamdic_vec(lattice_11, vec, -t1 * 1j, dtype=np.complex128)\n",
    "# combining\n",
    "hamdic_11 = compose_hamdics([[hamdic_10_10, hamdic_10_11], [hamdic_11_10, hamdic_11_11]])\n",
    "print(\"11 shape = {}\".format(hamdic_11.shape))\n",
    "\n",
    "## interlayer\n",
    "lattice_0 = lattice_00 + lattice_01\n",
    "lattice_1 = lattice_10 + lattice_11\n",
    "hamdic_01 = Hamdic((lattice_0.num_sites, lattice_1.num_sites))\n",
    "hamdic_01 += lattice_0.get_hamdic_cutoff(lattice_1, t_inter, distance_cutoff_sq=a**2)\n",
    "hamdic_10 = hamdic_01.get_hermitian_conjugate()\n",
    "print(\"01 shape = {}\".format(hamdic_01.shape))\n",
    "\n",
    "## combining layer -- interlayer\n",
    "hamdic = compose_hamdics([[hamdic_00, hamdic_01], [hamdic_10, hamdic_11]])\n",
    "for key in hamdic.dic.keys():\n",
    "    hamdic.dic[key] = hamdic.dic[key].tocsr()\n",
    "    \n",
    "## checking hermiticity\n",
    "q_test = np.array([1.234, 5.678])\n",
    "ham = lil_matrix(hamdic.shape, dtype=np.complex128)\n",
    "for key in hamdic.dic.keys():\n",
    "    u_shift = moire_cell.get_u_shift(key[0], key[1])\n",
    "    ham += hamdic.dic[key] * np.exp(1j * 2 * np.pi * q_test.dot(u_shift))\n",
    "non_hermicity = sp_linalg.norm(ham - ham.T.conjugate())\n",
    "print(\"|H - H^dag| = {}\".format(non_hermicity))"
   ]
  },
  {
   "cell_type": "code",
   "execution_count": 91,
   "metadata": {},
   "outputs": [
    {
     "name": "stdout",
     "output_type": "stream",
     "text": [
      "100.00% [####################################################################################################]\r"
     ]
    }
   ],
   "source": [
    "## calculating the eigenergies along the 1D line\n",
    "nq, ns, nd = 51, 10, hamdic.shape[0]\n",
    "q_arr = [moire_cell.q1 * iq / nq for iq in range(nq)]\n",
    "q_arr += [moire_cell.q1 + (moire_cell.q2 - moire_cell.q1) * 0.5 * iq / nq for iq in range(nq)]\n",
    "q_arr += [(moire_cell.q2 + moire_cell.q1) * 0.5 * (1 - iq / nq) for iq in range(nq)]\n",
    "\n",
    "es_arr = np.zeros((len(q_arr), ns))\n",
    "for iq in range(len(q_arr)):\n",
    "    print_progress_bar(iq, len(q_arr))\n",
    "    q_num = q_arr[iq]\n",
    "    ham = lil_matrix(hamdic.shape, dtype=np.complex128)\n",
    "    for key in hamdic.dic.keys():\n",
    "        u_shift = moire_cell.get_u_shift(key[0], key[1])\n",
    "        ham += hamdic.dic[key] * np.exp(1j * 2 * np.pi * q_num.dot(u_shift))\n",
    "    ham = ham.tocsc()\n",
    "    es, vs = sp_linalg.eigsh(ham, k=ns, sigma=0, tol=1e-4)\n",
    "    es_arr[iq,:] = es[:]"
   ]
  },
  {
   "cell_type": "code",
   "execution_count": 93,
   "metadata": {},
   "outputs": [],
   "source": [
    "## plotting the lattice the eigenenergies along the 1D line\n",
    "%matplotlib qt5\n",
    "fig = plt.figure()\n",
    "\n",
    "fax = fig.add_axes((.15, .15, .75, .75))\n",
    "fax.plot([0, len(q_arr)], [0, 0], c=\"black\", linestyle='-')\n",
    "for jd in range(ns):\n",
    "    cax = fax.plot(range(len(q_arr)), es_arr[:,jd], c=\"red\", lw=0, marker='.', ms=2.5)\n",
    "fax.scatter([0.5*nq, (1+2/3)*nq, 2.0*nq], [0, 0, 0], s=100, marker='|', c=\"black\")\n",
    "fax.text((0.52)*nq, 0.0, r\"$M$\", color=\"black\")\n",
    "fax.text((1+2/3+0.02)*nq, 0.0, r\"$K$\", color=\"black\")\n",
    "fax.text((2.02)*nq, 0.0, r\"$M'$\", color=\"black\")\n",
    "    \n",
    "title = \"ens.1d.sparse.lm1={}.lm2={}.theta={:.2f}\".format(lm1, lm2, theta_deg)\n",
    "title += \".t0={:.2f}.t1={:.2f}.t_inter={:.2f}.pdf\".format(t0, t1, t_inter)\n",
    "plt.savefig(\"figs/\"+title)\n",
    "plt.show()"
   ]
  },
  {
   "cell_type": "code",
   "execution_count": 39,
   "metadata": {},
   "outputs": [],
   "source": [
    "## plotting the lattice\n",
    "%matplotlib qt5\n",
    "fig = plt.figure()\n",
    "\n",
    "fax = fig.add_axes((.15, .15, .75, .75))\n",
    "moire_cell.draw(fax)\n",
    "lattice_00.draw(fax, color_int=\"red\", color_ext=\"gray\", u_offset=np.array([0.01, 0.01]), draw_numbers=False)\n",
    "lattice_01.draw(fax, color_int=\"red\", color_ext=\"gray\", u_offset=np.array([0.01, 0.01]), draw_numbers=False)\n",
    "lattice_10.draw(fax, color_int=\"blue\", color_ext=\"gray\", u_offset=np.array([-0.01, 0.01]), draw_numbers=False)\n",
    "lattice_11.draw(fax, color_int=\"blue\", color_ext=\"gray\", u_offset=np.array([-0.01, 0.01]), draw_numbers=False)\n",
    "big_cell.draw(fax)\n",
    "big_cell_1 = big_cell.rotate(theta_twist)\n",
    "big_cell_1.draw(fax)\n",
    "\n",
    "title = \"lattice.lm1={}.lm2={}.pdf\".format(lm1, lm2)\n",
    "#plt.savefig(\"figs/\"+title)\n",
    "plt.show()"
   ]
  },
  {
   "cell_type": "code",
   "execution_count": null,
   "metadata": {},
   "outputs": [],
   "source": []
  }
 ],
 "metadata": {
  "kernelspec": {
   "display_name": "Python (norm)",
   "language": "python",
   "name": "norm"
  },
  "language_info": {
   "codemirror_mode": {
    "name": "ipython",
    "version": 3
   },
   "file_extension": ".py",
   "mimetype": "text/x-python",
   "name": "python",
   "nbconvert_exporter": "python",
   "pygments_lexer": "ipython3",
   "version": "3.7.5"
  }
 },
 "nbformat": 4,
 "nbformat_minor": 2
}
